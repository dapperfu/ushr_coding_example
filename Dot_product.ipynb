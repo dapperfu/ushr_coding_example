{
 "cells": [
  {
   "cell_type": "markdown",
   "metadata": {},
   "source": [
    "# Dot product\n",
    "\n",
    "\n",
    "In mathematics, the dot product or scalar product[note 1] is an algebraic operation that takes two equal-length sequences of numbers (usually coordinate vectors) and returns a single number. In Euclidean geometry, the dot product of the Cartesian coordinates of two vectors is widely used and often called inner product (or rarely projection product); see also inner product space.\n",
    "\n",
    "## Definition\n",
    "\n",
    "The dot product may be defined algebraically or geometrically. The geometric definition is based on the notions of angle and distance (magnitude of vectors). The equivalence of these two definitions relies on having a Cartesian coordinate system for Euclidean space.\n",
    "\n",
    "In modern presentations of Euclidean geometry, the points of space are defined in terms of their Cartesian coordinates, and Euclidean space itself is commonly identified with the real coordinate space Rn. In such a presentation, the notions of length and angles are defined by means of the dot product. The length of a vector is defined as the square root of the dot product of the vector by itself, and the cosine of the (non oriented) angle of two vectors of length one is defined as their dot product. So the equivalence of the two definitions of the dot product is a part of the equivalence of the classical and the modern formulations of Euclidean geometry."
   ]
  },
  {
   "cell_type": "markdown",
   "metadata": {},
   "source": [
    "Algebraic definition\n",
    "The dot product of two vectors a = [a1, a2, …, an] and b = [b1, b2, …, bn] is defined as:\n",
    "\n",
    "$$\n",
    "{\\displaystyle \\mathbf {\\color {red}a} \\cdot \\mathbf {\\color {blue}b} =\\sum _{i=1}^{n}{\\color {red}a}_{i}{\\color {blue}b}_{i}={\\color {red}a}_{1}{\\color {blue}b}_{1}+{\\color {red}a}_{2}{\\color {blue}b}_{2}+\\cdots +{\\color {red}a}_{n}{\\color {blue}b}_{n}}\n",
    "$$\n",
    "\n",
    "where Σ denotes summation and n is the dimension of the vector space. For instance, in three-dimensional space, the dot product of vectors [1, 3, −5] and [4, −2, −1] is:\n",
    "\n",
    "$$\n",
    "{\\displaystyle {\\begin{aligned}\\ [{\\color {red}1,3,-5}]\\cdot [{\\color {blue}4,-2,-1}]&=({\\color {red}1}\\times {\\color {blue}4})+({\\color {red}3}\\times {\\color {blue}-2})+({\\color {red}-5}\\times {\\color {blue}-1})\\\\&=4-6+5\\\\&=3\\end{aligned}}} \n",
    "$$\n",
    "\n",
    "If vectors are identified with row matrices, the dot product can also be written as a matrix product\n",
    "\n",
    "${\\displaystyle \\mathbf {\\color {red}a} \\cdot \\mathbf {\\color {blue}b} =\\mathbf {\\color {red}a} \\mathbf {\\color {blue}b} ^{\\top },}$\n",
    "where ${\\displaystyle \\mathbf {\\color {blue}b} ^{\\top }}$ denotes the transpose of ${\\displaystyle \\mathbf {\\color {blue}b} }$.\n",
    "\n",
    "Expressing the above example in this way, a 1 × 3 matrix (row vector) is multiplied by a 3 × 1 matrix (column vector) to get the a 1 × 1 matrix that is identified with its unique entry:\n",
    "\n",
    "$$\n",
    "{\\displaystyle {\\begin{bmatrix}\\color {red}1&\\color {red}3&\\color {red}-5\\end{bmatrix}}{\\begin{bmatrix}\\color {blue}4\\\\\\color {blue}-2\\\\\\color {blue}-1\\end{bmatrix}}=\\color {purple}3}\n",
    "$$"
   ]
  },
  {
   "cell_type": "code",
   "execution_count": 5,
   "metadata": {},
   "outputs": [],
   "source": [
    "A=[1, 3, 5]\n",
    "B=[4, -2, -1]"
   ]
  },
  {
   "cell_type": "code",
   "execution_count": 6,
   "metadata": {},
   "outputs": [],
   "source": [
    "assert len(A)==len(B)"
   ]
  },
  {
   "cell_type": "code",
   "execution_count": 7,
   "metadata": {},
   "outputs": [
    {
     "ename": "TypeError",
     "evalue": "SDOT() missing 4 required positional arguments: 'SX', 'INCX', 'SY', and 'INCY'",
     "output_type": "error",
     "traceback": [
      "\u001b[0;31m---------------------------------------------------------------------------\u001b[0m",
      "\u001b[0;31mTypeError\u001b[0m                                 Traceback (most recent call last)",
      "\u001b[0;32m<ipython-input-7-ab930201dc3c>\u001b[0m in \u001b[0;36m<module>\u001b[0;34m()\u001b[0m\n\u001b[1;32m      4\u001b[0m     \u001b[0;32mif\u001b[0m \u001b[0;34m(\u001b[0m\u001b[0mN\u001b[0m\u001b[0;34m<\u001b[0m\u001b[0;36m0\u001b[0m\u001b[0;34m)\u001b[0m\u001b[0;34m:\u001b[0m\u001b[0;34m\u001b[0m\u001b[0m\n\u001b[1;32m      5\u001b[0m         \u001b[0;32mreturn\u001b[0m \u001b[0;32mNone\u001b[0m\u001b[0;34m\u001b[0m\u001b[0m\n\u001b[0;32m----> 6\u001b[0;31m \u001b[0;32massert\u001b[0m \u001b[0mSDOT\u001b[0m\u001b[0;34m(\u001b[0m\u001b[0mN\u001b[0m\u001b[0;34m=\u001b[0m\u001b[0;36m1\u001b[0m\u001b[0;34m)\u001b[0m \u001b[0;32mis\u001b[0m \u001b[0;32mNone\u001b[0m\u001b[0;34m\u001b[0m\u001b[0m\n\u001b[0m",
      "\u001b[0;31mTypeError\u001b[0m: SDOT() missing 4 required positional arguments: 'SX', 'INCX', 'SY', and 'INCY'"
     ]
    }
   ],
   "source": [
    "def SDOT(N, SX=0, INC=0, SY=0, INCY=0):\n",
    "    stemp = 0.0e0\n",
    "    sdot = 0.0e0\n",
    "    if (N<0):\n",
    "        return None\n",
    "assert SDOT(N=1) is None"
   ]
  },
  {
   "cell_type": "code",
   "execution_count": null,
   "metadata": {},
   "outputs": [],
   "source": []
  },
  {
   "cell_type": "code",
   "execution_count": 1,
   "metadata": {},
   "outputs": [],
   "source": [
    "import numpy as np"
   ]
  },
  {
   "cell_type": "code",
   "execution_count": 3,
   "metadata": {},
   "outputs": [
    {
     "name": "stdout",
     "output_type": "stream",
     "text": [
      "Collecting numba\n",
      "\u001b[?25l  Downloading https://files.pythonhosted.org/packages/24/89/6f1755892d60ddd528090dc313349e7cc491170d6737f6b3a7a5b317ef81/numba-0.39.0-cp36-cp36m-manylinux1_x86_64.whl (1.9MB)\n",
      "\u001b[K    100% |████████████████████████████████| 1.9MB 152kB/s ta 0:00:01\n",
      "\u001b[?25hCollecting llvmlite>=0.24.0dev0 (from numba)\n",
      "\u001b[?25l  Downloading https://files.pythonhosted.org/packages/be/05/c1b933d6b3dd6a234b681605e4154c44d21ee22cbef315c4eb9d64e6ab6a/llvmlite-0.24.0-cp36-cp36m-manylinux1_x86_64.whl (15.8MB)\n",
      "\u001b[K    100% |████████████████████████████████| 15.9MB 174kB/s ta 0:00:01\n",
      "\u001b[?25hRequirement already satisfied: numpy in ./lib/python3.6/site-packages (from numba) (1.15.1)\n",
      "Installing collected packages: llvmlite, numba\n",
      "Successfully installed llvmlite-0.24.0 numba-0.39.0\n"
     ]
    }
   ],
   "source": [
    "!pip install numba"
   ]
  },
  {
   "cell_type": "markdown",
   "metadata": {},
   "source": [
    "## Geometric definition\n",
    "\n",
    "Illustration showing how to find the angle between vectors using the dot product\n",
    "In Euclidean space, a Euclidean vector is a geometric object that possesses both a magnitude and a direction. A vector can be pictured as an arrow. Its magnitude is its length, and its direction is the direction that the arrow points. The magnitude of a vector a is denoted by ${\\displaystyle \\left\\|\\mathbf {a} \\right\\|}$. The dot product of two Euclidean vectors a and b is defined by\n",
    "\n",
    "${\\displaystyle \\mathbf {a} \\cdot \\mathbf {b} =\\|\\mathbf {a} \\|\\ \\|\\mathbf {b} \\|\\cos(\\theta ),}$ where θ is the angle between a and b.\n",
    "\n",
    "In particular, if a and b are orthogonal (the angle between vectors is 90°) then due to ${\\displaystyle \\cos(90^{\\circ })=0}$.\n",
    "\n",
    "$$\n",
    "{\\displaystyle \\mathbf {a} \\cdot \\mathbf {b} =0.}\n",
    "$$\n",
    "\n",
    "At the other extreme, if they are codirectional, then the angle between them is 0° and\n",
    "\n",
    "$${\\displaystyle \\mathbf {a} \\cdot \\mathbf {b} =\\left\\|\\mathbf {a} \\right\\|\\,\\left\\|\\mathbf {b} \\right\\|}$$ This implies that the dot product of a vector a with itself is\n",
    "\n",
    "$${\\displaystyle \\mathbf {a} \\cdot \\mathbf {a} =\\left\\|\\mathbf {a} \\right\\|^{2},}$$\n",
    "\n",
    "which gives\n",
    "\n",
    "$${\\displaystyle \\left\\|\\mathbf {a} \\right\\|={\\sqrt {\\mathbf {a} \\cdot \\mathbf {a} }},}$$\n",
    "\n",
    "the formula for the Euclidean length of the vector."
   ]
  },
  {
   "cell_type": "markdown",
   "metadata": {},
   "source": [
    "Scalar projection and first properties\n",
    "\n",
    "Scalar projection\n",
    "The scalar projection (or scalar component) of a Euclidean vector a in the direction of a Euclidean vector b is given by\n",
    "\n",
    "$${\\displaystyle a_{b}=\\left\\|\\mathbf {a} \\right\\|\\cos \\theta ,}$$\n",
    "where θ is the angle between a and b.\n",
    "\n",
    "In terms of the geometric definition of the dot product, this can be rewritten\n",
    "\n",
    "$${\\displaystyle a_{b}=\\mathbf {a} \\cdot {\\widehat {\\mathbf {b} }},}$$\n",
    "where $${\\displaystyle {\\widehat {\\mathbf {b} }}=\\mathbf {b} /\\left\\|\\mathbf {b} \\right\\|}$$ is the unit vector in the direction of b.\n",
    "\n",
    "\n",
    "Distributive law for the dot product\n",
    "The dot product is thus characterized geometrically by[4]\n",
    "\n",
    "$${\\displaystyle \\mathbf {a} \\cdot \\mathbf {b} =a_{b}\\left\\|\\mathbf {b} \\right\\|=b_{a}\\left\\|\\mathbf {a} \\right\\|.}$$\n",
    "The dot product, defined in this manner, is homogeneous under scaling in each variable, meaning that for any scalar α,\n",
    "\n",
    "$${\\displaystyle (\\alpha \\mathbf {a} )\\cdot \\mathbf {b} =\\alpha (\\mathbf {a} \\cdot \\mathbf {b} )=\\mathbf {a} \\cdot (\\alpha \\mathbf {b} ).}$$\n",
    "It also satisfies a distributive law, meaning that\n",
    "\n",
    "$${\\displaystyle \\mathbf {a} \\cdot (\\mathbf {b} +\\mathbf {c} )=\\mathbf {a} \\cdot \\mathbf {b} +\\mathbf {a} \\cdot \\mathbf {c} .}$$\n",
    "These properties may be summarized by saying that the dot product is a bilinear form. Moreover, this bilinear form is positive definite, which means that ${\\displaystyle \\mathbf {a} \\cdot \\mathbf {a} }$ is never negative and is zero if and only if ${\\displaystyle \\mathbf {a} =\\mathbf {0} }$, the zero vector."
   ]
  },
  {
   "cell_type": "code",
   "execution_count": null,
   "metadata": {},
   "outputs": [],
   "source": []
  }
 ],
 "metadata": {
  "kernelspec": {
   "display_name": "Python 3",
   "language": "python",
   "name": "python3"
  },
  "language_info": {
   "codemirror_mode": {
    "name": "ipython",
    "version": 3
   },
   "file_extension": ".py",
   "mimetype": "text/x-python",
   "name": "python",
   "nbconvert_exporter": "python",
   "pygments_lexer": "ipython3",
   "version": "3.6.5"
  }
 },
 "nbformat": 4,
 "nbformat_minor": 2
}

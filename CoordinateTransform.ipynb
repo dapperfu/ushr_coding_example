{
 "cells": [
  {
   "cell_type": "markdown",
   "metadata": {},
   "source": [
    "# Matrix Transforms"
   ]
  },
  {
   "cell_type": "markdown",
   "metadata": {},
   "source": [
    " Attribution-NonCommercial-ShareAlike 4.0 International (CC BY-NC-SA 4.0)\n",
    "\n",
    "This program is free software: you can redistribute it and/or modify\n",
    "it under the terms of the GNU General Public License as published by\n",
    "the Free Software Foundation, either version 3 of the License, or\n",
    "(at your option) any later version.\n",
    "\n",
    "This program is distributed in the hope that it will be useful,\n",
    "but WITHOUT ANY WARRANTY; without even the implied warranty of\n",
    "MERCHANTABILITY or FITNESS FOR A PARTICULAR PURPOSE.  See the\n",
    "GNU General Public License for more details.\n",
    "\n",
    "You should have received a copy of the GNU General Public License\n",
    "along with this program.  If not, see <https://www.gnu.org/licenses\n",
    "\n",
    "Copyright (c) 2018, Jed Frey."
   ]
  },
  {
   "cell_type": "markdown",
   "metadata": {},
   "source": [
    "## Reference\n",
    "\n",
    "- [Coordinate Systems and Coordinate Transformations](http://ads.harvard.edu/books/1989fcm..book/Chapter2.pdf)\n",
    "- [1.5 Coordinate Transformation of Vector Components](http://homepages.engineering.auckland.ac.nz/~pkel015/SolidMechanicsBooks/Part_III/Chapter_1_Vectors_Tensors/Vectors_Tensors_05_Coordinate_Transformation_Vectors.pdf)"
   ]
  },
  {
   "cell_type": "code",
   "execution_count": 1,
   "metadata": {},
   "outputs": [],
   "source": [
    "import matplotlib.pyplot as plt\n",
    "import numpy as np\n",
    "import seaborn as sns\n",
    "%matplotlib inline\n",
    "sns.set()"
   ]
  },
  {
   "cell_type": "markdown",
   "metadata": {},
   "source": [
    "Color Key: \n",
    "\n",
    "- Blue: $\\hat{i}$\n",
    "- Orange: $\\hat{j}$\n",
    "- Green: Data point."
   ]
  },
  {
   "cell_type": "code",
   "execution_count": 2,
   "metadata": {},
   "outputs": [
    {
     "name": "stdout",
     "output_type": "stream",
     "text": [
      "Coordinate System 1 Palette:\n"
     ]
    },
    {
     "data": {
      "image/png": "[encoded data removed]",
      "text/plain": [
       "<Figure size 216x72 with 1 Axes>"
      ]
     },
     "metadata": {},
     "output_type": "display_data"
    }
   ],
   "source": [
    "ccs_1_palette = sns.color_palette(\"dark\", 3)\n",
    "print(\"Coordinate System 1 Palette:\")\n",
    "sns.palplot(ccs_1_palette)"
   ]
  },
  {
   "cell_type": "code",
   "execution_count": 3,
   "metadata": {},
   "outputs": [
    {
     "name": "stdout",
     "output_type": "stream",
     "text": [
      "Cartesian Coordinate System 2 Palette:\n"
     ]
    },
    {
     "data": {
      "image/png": "[encoded data removed]",
      "text/plain": [
       "<Figure size 216x72 with 1 Axes>"
      ]
     },
     "metadata": {},
     "output_type": "display_data"
    }
   ],
   "source": [
    "ccs_2_palette = sns.color_palette(\"bright\", 3)\n",
    "print(\"Cartesian Coordinate System 2 Palette:\")\n",
    "sns.palplot(ccs_2_palette)"
   ]
  },
  {
   "cell_type": "code",
   "execution_count": 4,
   "metadata": {},
   "outputs": [
    {
     "name": "stdout",
     "output_type": "stream",
     "text": [
      "Cartesian Coordinate System 3 Palette:\n"
     ]
    },
    {
     "data": {
      "image/png": "[encoded data removed]",
      "text/plain": [
       "<Figure size 216x72 with 1 Axes>"
      ]
     },
     "metadata": {},
     "output_type": "display_data"
    }
   ],
   "source": [
    "ccs_3_palette = sns.color_palette(\"pastel\", 3)\n",
    "print(\"Cartesian Coordinate System 3 Palette:\")\n",
    "sns.palplot(ccs_3_palette)"
   ]
  },
  {
   "cell_type": "markdown",
   "metadata": {},
   "source": [
    "## Plot data in the cartesian coordinate system 1:"
   ]
  },
  {
   "cell_type": "code",
   "execution_count": 5,
   "metadata": {},
   "outputs": [],
   "source": [
    "def redacted_fcn_jaf(X, Y, Z, origin):  \n",
    "    #    This program is free software: you can redistribute it and/or modify\n",
    "    #    it under the terms of the GNU General Public License as published by\n",
    "    #    the Free Software Foundation, either version 3 of the License, or\n",
    "    #    (at your option) any later version.\n",
    "    #\n",
    "    #    This program is distributed in the hope that it will be useful,\n",
    "    #    but WITHOUT ANY WARRANTY; without even the implied warranty of\n",
    "    #    MERCHANTABILITY or FITNESS FOR A PARTICULAR PURPOSE.  See the\n",
    "    #    GNU General Public License for more details.\n",
    "    #\n",
    "    #    You should have received a copy of the GNU General Public License\n",
    "    #    along with this program.  If not, see <https://www.gnu.org/licenses/>.\n",
    "    #\n",
    "    # Documentation is Attribution-NonCommercial-ShareAlike 4.0 International (CC BY-NC-SA 4.0)\n",
    "    #\n",
    "    # Copyright (c) 2018, Jed Frey.\n",
    "\n",
    "    X=np.array(X, dtype=np.float64).squeeze()\n",
    "    Y=np.array(Y, dtype=np.float64).squeeze()\n",
    "    Z=np.array(Z, dtype=np.float64).squeeze()\n",
    "    origin=np.array(origin, dtype=np.float64).squeeze()\n",
    "\n",
    "    # [REDACTED: ushr code]\n",
    "    # [REDACTED: ushr code]\n",
    "    \n",
    "    M = np.zeros((4,4), dtype=np.float64)\n",
    "    M[0:3,0]=X\n",
    "    M[0:3,1]=Y\n",
    "    M[0:3,2]=Z\n",
    "    M[0:3,3]=origin\n",
    "    M[3,3]=1\n",
    "\n",
    "    return M"
   ]
  },
  {
   "cell_type": "code",
   "execution_count": 6,
   "metadata": {},
   "outputs": [
    {
     "name": "stdout",
     "output_type": "stream",
     "text": [
      "[[1.  0.5 0. ]]\n"
     ]
    },
    {
     "data": {
      "image/png": "[encoded data removed]",
      "text/plain": [
       "<Figure size 432x288 with 1 Axes>"
      ]
     },
     "metadata": {},
     "output_type": "display_data"
    }
   ],
   "source": [
    "# Setup single data point in the current cartesian coordinate system\n",
    "data_CCS1 = np.column_stack(([1], [0.5], [0]))\n",
    "\n",
    "fig, (ax1) = plt.subplots(1, 1)\n",
    "ax1.grid(True)\n",
    "ax1.axes.set_aspect('equal')\n",
    "\n",
    "# plot the current coordinate system\n",
    "ax1.plot([0., 1.], [0.,0.], color=ccs_1_palette[0]) # current X-Axis\n",
    "ax1.plot([0., 0.], [0.,1.], color=ccs_1_palette[1]) # current Y-Axis\n",
    "ax1.plot(data_CCS1[:,0], data_CCS1[:,1], color=ccs_1_palette[2], marker=\"p\", markersize=10)\n",
    "\n",
    "print(data_CCS1)"
   ]
  },
  {
   "cell_type": "markdown",
   "metadata": {
    "scrolled": true
   },
   "source": [
    "## Define two more coordinate systems\n",
    "\n",
    "We've defined points with respect to a coordinate system defined at [0,0]. Next let's create a two more cartesian coordinate systems:"
   ]
  },
  {
   "cell_type": "code",
   "execution_count": 7,
   "metadata": {},
   "outputs": [
    {
     "data": {
      "text/plain": [
       "[<matplotlib.lines.Line2D at 0x7f20723258d0>]"
      ]
     },
     "execution_count": 7,
     "metadata": {},
     "output_type": "execute_result"
    },
    {
     "data": {
      "image/png": "[encoded data removed]",
      "text/plain": [
       "<Figure size 432x288 with 1 Axes>"
      ]
     },
     "metadata": {},
     "output_type": "display_data"
    }
   ],
   "source": [
    "# plot the current coordinate system\n",
    "plt.figure()\n",
    "ax1=plt.subplot(1,1,1)\n",
    "ax1.grid(True)\n",
    "ax1.set_aspect('equal')\n",
    "\n",
    "ax1.plot([0., 1.], [0.,0.], color=ccs_1_palette[0], linewidth=3) # CCS X-Axis\n",
    "ax1.plot([0., 0.], [0.,1.], color=ccs_1_palette[1], linewidth=3) # CCS1 Y-Axis\n",
    "\n",
    "ax1.plot([0., 0.], [3.,2.], color=ccs_2_palette[0], linewidth=3)  # CCS2 X-Axis\n",
    "ax1.plot([0., 1.], [3.,3.], color=ccs_2_palette[1], linewidth=3)  # CCS2 X-Axis\n",
    "\n",
    "ax1.plot([2., 3.], [2.,2.], color=ccs_3_palette[0], linewidth=3)  # CCS3 X-Axis\n",
    "ax1.plot([2., 2.], [2.,3.], color=ccs_3_palette[1], linewidth=3)  # CCS3 X-Axis "
   ]
  },
  {
   "cell_type": "markdown",
   "metadata": {},
   "source": [
    "## Project the data into the new coordindate systems\n",
    "\n",
    "Now let's create a Model Matrix ```M_1_2``` that transforms our data from the first cartesian coordinate system (CCS1) to the second cartesian coordinate system (CCS2). The output is below:"
   ]
  },
  {
   "cell_type": "code",
   "execution_count": 8,
   "metadata": {},
   "outputs": [
    {
     "data": {
      "text/plain": [
       "array([[ 0.,  1.,  0.,  0.],\n",
       "       [-1.,  0.,  0.,  3.],\n",
       "       [ 0.,  0.,  1.,  0.],\n",
       "       [ 0.,  0.,  0.,  1.]])"
      ]
     },
     "execution_count": 8,
     "metadata": {},
     "output_type": "execute_result"
    }
   ],
   "source": [
    "# Define a matrix that converts from CCS1 to CCS2\n",
    "M_1_2 = redacted_fcn_jaf(\n",
    "    X=[0., -1., 0.],\n",
    "    Y=[1., 0., 0.],\n",
    "    Z=[0., 0., 1.],\n",
    "    origin=[0.,3.,0.],\n",
    ")\n",
    "M_1_2"
   ]
  },
  {
   "cell_type": "code",
   "execution_count": 9,
   "metadata": {},
   "outputs": [
    {
     "data": {
      "text/plain": [
       "array([[-0., -1., -0.,  3.],\n",
       "       [ 1.,  0.,  0.,  0.],\n",
       "       [ 0.,  0.,  1.,  0.],\n",
       "       [ 0.,  0.,  0.,  1.]])"
      ]
     },
     "execution_count": 9,
     "metadata": {},
     "output_type": "execute_result"
    }
   ],
   "source": [
    "# The inverse goes from CCS2 to CCS1\n",
    "M_2_1 = np.linalg.inv(M_1_2)\n",
    "M_2_1"
   ]
  },
  {
   "cell_type": "markdown",
   "metadata": {},
   "source": [
    "Now let's create a Model Matrix ```M_1_3``` that transforms our data from the first cartesian coordinate system (CCS1) to the third cartesian coordinate system (CCS3). The output is below:"
   ]
  },
  {
   "cell_type": "code",
   "execution_count": 10,
   "metadata": {},
   "outputs": [
    {
     "data": {
      "text/plain": [
       "array([[1., 0., 0., 2.],\n",
       "       [0., 1., 0., 2.],\n",
       "       [0., 0., 1., 0.],\n",
       "       [0., 0., 0., 1.]])"
      ]
     },
     "execution_count": 10,
     "metadata": {},
     "output_type": "execute_result"
    }
   ],
   "source": [
    "# Define a matrix that converts from CCS1 to CCS3\n",
    "M_1_3 = redacted_fcn_jaf(\n",
    "    X=[1., 0., 0.],\n",
    "    Y=[0., 1., 0.],\n",
    "    Z=[0., 0., 1.],\n",
    "    origin=[2.,2.,0.],\n",
    ")\n",
    "M_1_3"
   ]
  },
  {
   "cell_type": "code",
   "execution_count": 11,
   "metadata": {},
   "outputs": [
    {
     "data": {
      "text/plain": [
       "array([[ 1.,  0.,  0., -2.],\n",
       "       [ 0.,  1.,  0., -2.],\n",
       "       [ 0.,  0.,  1.,  0.],\n",
       "       [ 0.,  0.,  0.,  1.]])"
      ]
     },
     "execution_count": 11,
     "metadata": {},
     "output_type": "execute_result"
    }
   ],
   "source": [
    "# The inverse goes from CCS3 to CCS1\n",
    "M_3_1 = np.linalg.inv(M_1_3)\n",
    "M_3_1"
   ]
  },
  {
   "cell_type": "markdown",
   "metadata": {},
   "source": [
    "# Transform the data\n",
    "\n",
    "Transform the data points so they are defined with respect to CCS2 & CCS3."
   ]
  },
  {
   "cell_type": "code",
   "execution_count": 12,
   "metadata": {},
   "outputs": [
    {
     "name": "stdout",
     "output_type": "stream",
     "text": [
      "[[0.5 2.  0. ]]\n"
     ]
    }
   ],
   "source": [
    "data_CCS2 = np.dot(data_CCS1, M_1_2[:3, :3].T) + np.squeeze(M_1_2[:3, 3:])\n",
    "print(data_CCS2)"
   ]
  },
  {
   "cell_type": "code",
   "execution_count": 13,
   "metadata": {},
   "outputs": [
    {
     "name": "stdout",
     "output_type": "stream",
     "text": [
      "[[3.  2.5 0. ]]\n"
     ]
    }
   ],
   "source": [
    "data_CCS3 = np.dot(data_CCS1, M_1_3[:3, :3].T) + np.squeeze(M_1_3[:3, 3:])\n",
    "print(data_CCS3)"
   ]
  },
  {
   "cell_type": "code",
   "execution_count": 14,
   "metadata": {},
   "outputs": [
    {
     "data": {
      "text/plain": [
       "[<matplotlib.lines.Line2D at 0x7f20722a0d68>]"
      ]
     },
     "execution_count": 14,
     "metadata": {},
     "output_type": "execute_result"
    },
    {
     "data": {
      "image/png": "[encoded data removed]",
      "text/plain": [
       "<Figure size 432x288 with 1 Axes>"
      ]
     },
     "metadata": {},
     "output_type": "display_data"
    }
   ],
   "source": [
    "plt.figure()\n",
    "ax1=plt.subplot(1,1,1)\n",
    "ax1.grid(True)\n",
    "ax1.set_aspect('equal')\n",
    "\n",
    "# CCS1\n",
    "ax1.plot([0., 1.], [0.,0.], color=ccs_1_palette[0]) # CCS1 X-Axis\n",
    "ax1.plot([0., 0.], [0.,1.], color=ccs_1_palette[1]) # CCS1 Y-Axis\n",
    "ax1.plot(data_CCS1[:,0], data_CCS1[:,1], color=ccs_1_palette[2], marker=\"p\", markersize=10)\n",
    "\n",
    "# CCS2\n",
    "ax1.plot([0., 0.], [3.,2.], color=ccs_2_palette[0], linewidth=3)  # CCS2 X-Axis\n",
    "ax1.plot([0., 1.], [3.,3.], color=ccs_2_palette[1], linewidth=3)  # CCS2 X-Axis \n",
    "ax1.plot(data_CCS2[:,0], data_CCS2[:,1], color=ccs_2_palette[2], marker=\"p\", markersize=10)\n",
    "\n",
    "# CCS3\n",
    "ax1.plot([2., 3.], [2.,2.], color=ccs_3_palette[0], linewidth=3)  # CCS3 X-Axis\n",
    "ax1.plot([2., 2.], [2.,3.], color=ccs_3_palette[1], linewidth=3)  # CCS3 X-Axis \n",
    "ax1.plot(data_CCS3[:,0], data_CCS3[:,1], color=ccs_3_palette[2], marker=\"p\", markersize=10)"
   ]
  }
 ],
 "metadata": {
  "kernelspec": {
   "display_name": "Python 3",
   "language": "python",
   "name": "python3"
  },
  "language_info": {
   "codemirror_mode": {
    "name": "ipython",
    "version": 3
   },
   "file_extension": ".py",
   "mimetype": "text/x-python",
   "name": "python",
   "nbconvert_exporter": "python",
   "pygments_lexer": "ipython3",
   "version": "3.6.5"
  }
 },
 "nbformat": 4,
 "nbformat_minor": 2
}

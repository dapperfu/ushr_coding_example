{
 "cells": [
  {
   "cell_type": "markdown",
   "metadata": {},
   "source": [
    "# ```[redacted_fcn]``` speedup"
   ]
  },
  {
   "cell_type": "code",
   "execution_count": 1,
   "metadata": {},
   "outputs": [],
   "source": [
    "import numpy as np"
   ]
  },
  {
   "cell_type": "code",
   "execution_count": 3,
   "metadata": {},
   "outputs": [],
   "source": [
    "def redacted_fcn_ushr(*args, **kwargs):\n",
    "    # Redacted\n",
    "    pass"
   ]
  },
  {
   "cell_type": "code",
   "execution_count": 4,
   "metadata": {},
   "outputs": [],
   "source": [
    "def redacted_fcn_jaf(X, Y, Z, origin):  \n",
    "    X=np.array(X, dtype=np.float64).squeeze()\n",
    "    Y=np.array(Y, dtype=np.float64).squeeze()\n",
    "    Z=np.array(Z, dtype=np.float64).squeeze()\n",
    "    origin=np.array(origin, dtype=np.float64).squeeze()\n",
    "\n",
    "    # [REDACTED: ushr code]\n",
    "    # [REDACTED: ushr code]\n",
    "    \n",
    "    M = np.zeros((4,4), dtype=np.float64)\n",
    "    M[0:3,0]=X\n",
    "    M[0:3,1]=Y\n",
    "    M[0:3,2]=Z\n",
    "    M[0:3,3]=origin\n",
    "    M[3,3]=1\n",
    "\n",
    "    return M"
   ]
  },
  {
   "cell_type": "code",
   "execution_count": 12,
   "metadata": {},
   "outputs": [
    {
     "name": "stdout",
     "output_type": "stream",
     "text": [
      "448 µs ± 2.02 µs per loop (mean ± std. dev. of 7 runs, 1000 loops each)\n"
     ]
    }
   ],
   "source": [
    "%timeit redacted_fcn_ushr(\"[REDACTED]\")"
   ]
  },
  {
   "cell_type": "code",
   "execution_count": 13,
   "metadata": {},
   "outputs": [
    {
     "name": "stdout",
     "output_type": "stream",
     "text": [
      "14.3 µs ± 65.5 ns per loop (mean ± std. dev. of 7 runs, 100000 loops each)\n"
     ]
    }
   ],
   "source": [
    "%timeit redacted_fcn_jaf(X=[1,0,0], Y=[0,1,0], Z=[0,0,1], origin=[0,0,0])"
   ]
  },
  {
   "cell_type": "code",
   "execution_count": 14,
   "metadata": {},
   "outputs": [
    {
     "data": {
      "text/plain": [
       "31.328671328671327"
      ]
     },
     "execution_count": 14,
     "metadata": {},
     "output_type": "execute_result"
    }
   ],
   "source": [
    "448/14.3"
   ]
  }
 ],
 "metadata": {
  "kernelspec": {
   "display_name": "Python 3",
   "language": "python",
   "name": "python3"
  },
  "language_info": {
   "codemirror_mode": {
    "name": "ipython",
    "version": 3
   },
   "file_extension": ".py",
   "mimetype": "text/x-python",
   "name": "python",
   "nbconvert_exporter": "python",
   "pygments_lexer": "ipython3",
   "version": "3.6.5"
  }
 },
 "nbformat": 4,
 "nbformat_minor": 2
}
